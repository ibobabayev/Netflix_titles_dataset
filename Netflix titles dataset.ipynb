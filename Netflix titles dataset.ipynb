{
 "cells": [
  {
   "cell_type": "code",
   "execution_count": null,
   "id": "ab58870f-fa2d-4e67-86b2-d87903286f60",
   "metadata": {},
   "outputs": [],
   "source": [
    "import pandas as pd"
   ]
  },
  {
   "cell_type": "code",
   "execution_count": null,
   "id": "53c5f3a1-9204-47a6-a014-f7f484067a05",
   "metadata": {},
   "outputs": [],
   "source": [
    "df = pd.read_csv(r\"C:\\Users\\User\\Desktop\\EDA\\netflix_titles.csv\")"
   ]
  },
  {
   "cell_type": "code",
   "execution_count": null,
   "id": "a627baa1-7f90-4b48-9e14-8c0c30e1c0e0",
   "metadata": {},
   "outputs": [],
   "source": [
    "# Display basic statistics for numerical columns\n",
    "df.describe()"
   ]
  },
  {
   "cell_type": "code",
   "execution_count": null,
   "id": "20a285c1-db90-42e8-aced-ec319b691efe",
   "metadata": {},
   "outputs": [],
   "source": [
    "# Display a concise summary of the DataFrame\n",
    "df.info()"
   ]
  },
  {
   "cell_type": "code",
   "execution_count": null,
   "id": "bdb084f6-685c-4692-9d5c-755d73177cc9",
   "metadata": {},
   "outputs": [],
   "source": [
    "# Display data types of columns\n",
    "df.dtypes"
   ]
  },
  {
   "cell_type": "code",
   "execution_count": null,
   "id": "0e0cf22a-8dbc-4a49-b8aa-b2becc389e79",
   "metadata": {},
   "outputs": [],
   "source": [
    "# Display the shape of the DataFrame (rows, columns)\n",
    "df.shape"
   ]
  },
  {
   "cell_type": "code",
   "execution_count": null,
   "id": "5a27d709-0324-4fcb-b5ec-cf1b36eac8d2",
   "metadata": {},
   "outputs": [],
   "source": [
    "# Display the first 10 rows of the DataFrame\n",
    "df.head(10)"
   ]
  },
  {
   "cell_type": "code",
   "execution_count": null,
   "id": "7a7c7eec-0715-48d4-b94a-48843504f542",
   "metadata": {},
   "outputs": [],
   "source": [
    "# Display the last 10 rows of the DataFrame\n",
    "df.tail(10)"
   ]
  },
  {
   "cell_type": "code",
   "execution_count": null,
   "id": "1d3ac8f1-ab15-4867-bc42-09ec6ccbff83",
   "metadata": {},
   "outputs": [],
   "source": [
    "# Display all rows of the DataFrame\n",
    "pd.set_option('display.max.rows',8807)"
   ]
  },
  {
   "cell_type": "code",
   "execution_count": null,
   "id": "f4356260-65d7-479e-9cae-5c4c40970e7b",
   "metadata": {},
   "outputs": [],
   "source": [
    "df"
   ]
  },
  {
   "cell_type": "code",
   "execution_count": null,
   "id": "862faed0-d424-4bc9-80d7-c67d65745ef3",
   "metadata": {},
   "outputs": [],
   "source": [
    "# Checking for the number of duplicates\n",
    "df.duplicated().sum()"
   ]
  },
  {
   "cell_type": "code",
   "execution_count": null,
   "id": "e705d4bb-a812-4345-b024-8f0af442264e",
   "metadata": {},
   "outputs": [],
   "source": [
    "# Checking for unique values\n",
    "df.nunique()"
   ]
  },
  {
   "cell_type": "code",
   "execution_count": null,
   "id": "f2d10f85-4495-4ba7-a5b6-7364abbb7010",
   "metadata": {},
   "outputs": [],
   "source": [
    "# Checking for the number of the missing values in each column \n",
    "df.isnull().sum()"
   ]
  },
  {
   "cell_type": "code",
   "execution_count": null,
   "id": "6fb77816-e0b9-4ad5-a5c3-029437032c3b",
   "metadata": {},
   "outputs": [],
   "source": [
    "# Filling missing values with \"No information\"\n",
    "df.fillna(\"No information\")"
   ]
  },
  {
   "cell_type": "code",
   "execution_count": null,
   "id": "9c91e55b-7ef6-40ea-b1b3-f473a0256a24",
   "metadata": {},
   "outputs": [],
   "source": [
    "# Deleting the unnecessary column\n",
    "del df['date_added']\n",
    "df.shape"
   ]
  },
  {
   "cell_type": "code",
   "execution_count": null,
   "id": "0fc62188-03b7-4a57-b488-85eea0152d03",
   "metadata": {},
   "outputs": [],
   "source": [
    "# Counting the number of movies and TV shows\n",
    "df.groupby('type').count()"
   ]
  },
  {
   "cell_type": "code",
   "execution_count": null,
   "id": "fdf52430-f0c2-4052-8814-b08be9154f7a",
   "metadata": {},
   "outputs": [],
   "source": [
    "# Counting the number of movies and TV shows by release year\n",
    "df.groupby('release_year').count()"
   ]
  },
  {
   "cell_type": "code",
   "execution_count": null,
   "id": "102ab256-f1a2-4221-a82c-57ccbb077fce",
   "metadata": {},
   "outputs": [],
   "source": [
    "# List of movies and TV shows of the 21st Century\n",
    "df.sort_values(by='release_year',ascending=False).where(df['release_year']>=2000)"
   ]
  },
  {
   "cell_type": "code",
   "execution_count": null,
   "id": "eea8dfb4-cf05-4a7c-8f84-f837fb49f01d",
   "metadata": {},
   "outputs": [],
   "source": [
    "# List of movies and TV shows filmed only in Brazil\n",
    "df[df['country'].isin(['Brazil'])]"
   ]
  },
  {
   "cell_type": "code",
   "execution_count": null,
   "id": "e670e9b7-d4f7-43e3-825f-5f0d15abff91",
   "metadata": {},
   "outputs": [],
   "source": [
    "# List of movies and TV shows filmed in Brazil too\n",
    "df[df['country'].str.contains('Brazil',na=False)]"
   ]
  },
  {
   "cell_type": "code",
   "execution_count": null,
   "id": "96ccc16f-99f6-4fac-b6bd-3c023aa9d5b5",
   "metadata": {},
   "outputs": [],
   "source": [
    "# List of directors with the most movies and TV shows \n",
    "df.groupby('director').count().sort_values(by='show_id',ascending=False)"
   ]
  },
  {
   "cell_type": "code",
   "execution_count": null,
   "id": "491546ec-e494-4d44-ac7f-17e5c1ba9679",
   "metadata": {},
   "outputs": [],
   "source": [
    "# List of movies and TV shows directed by Martin Scorsese\n",
    "df.sort_values(by='release_year',na_position='last').where(df['director']== 'Martin Scorsese')"
   ]
  },
  {
   "cell_type": "code",
   "execution_count": null,
   "id": "b941908f-fd7a-4aee-bdd9-b36ffb340a82",
   "metadata": {},
   "outputs": [],
   "source": [
    "# List of movies and TV shows where Leonardo DiCaprio starred in\n",
    "df[df['cast'].str.contains('Leonardo DiCaprio',na=False)]"
   ]
  },
  {
   "cell_type": "code",
   "execution_count": null,
   "id": "4b0c5d70-6a93-4aa8-bc7e-32f73a7f267f",
   "metadata": {},
   "outputs": [],
   "source": [
    "#List of movies and TV shows in favorite genres\n",
    "fav_genres = ['Thrillers','TV Horror','Horror Movies']\n",
    "df[df['listed_in'].str.contains('|'.join(fav_genres),na=False)]"
   ]
  },
  {
   "cell_type": "code",
   "execution_count": null,
   "id": "60073f95-6bc2-4221-a5bd-c3fbe9653bb2",
   "metadata": {},
   "outputs": [],
   "source": [
    "#List of movies and TV shows about \"War\" \n",
    "df[df['description'].str.contains('War',na=False)]"
   ]
  },
  {
   "cell_type": "code",
   "execution_count": null,
   "id": "84bfa871-5e60-48f6-b84f-e97971a08cea",
   "metadata": {},
   "outputs": [],
   "source": [
    "# Display only filtered columns\n",
    "df.filter(items=['director','cast'])"
   ]
  },
  {
   "cell_type": "code",
   "execution_count": null,
   "id": "f6c5b5b7-f6f8-434d-a5dc-2ad9075271b5",
   "metadata": {},
   "outputs": [],
   "source": [
    "# List of movies and TV shows with NC-17 rating\n",
    "df[df['rating'].str.contains('NC-17',na=False)]"
   ]
  },
  {
   "cell_type": "code",
   "execution_count": null,
   "id": "ac38537f-bd2b-4cec-986c-053ce7ebaca0",
   "metadata": {},
   "outputs": [],
   "source": []
  }
 ],
 "metadata": {
  "kernelspec": {
   "display_name": "Python 3 (ipykernel)",
   "language": "python",
   "name": "python3"
  },
  "language_info": {
   "codemirror_mode": {
    "name": "ipython",
    "version": 3
   },
   "file_extension": ".py",
   "mimetype": "text/x-python",
   "name": "python",
   "nbconvert_exporter": "python",
   "pygments_lexer": "ipython3",
   "version": "3.12.4"
  }
 },
 "nbformat": 4,
 "nbformat_minor": 5
}
